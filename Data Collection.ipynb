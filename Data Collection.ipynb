{
 "cells": [
  {
   "cell_type": "code",
   "execution_count": 2,
   "id": "45d26169-abbc-43f6-811d-d7e006f4b323",
   "metadata": {},
   "outputs": [],
   "source": [
    "from bluepy.btle import Scanner, DefaultDelegate\n",
    "from collections import OrderedDict\n",
    "import rssi"
   ]
  },
  {
   "cell_type": "code",
   "execution_count": 16,
   "id": "0dd27b54-48c3-4857-afd2-1221711eba77",
   "metadata": {},
   "outputs": [],
   "source": [
    "class ScanDelegate(DefaultDelegate):\n",
    "    def __init__(self):\n",
    "        DefaultDelegate.__init__(self)\n",
    "\n",
    "\n",
    "    def HandleDiscovery(self,dev,new_dev,new_dat):\n",
    "        if new_dev:\n",
    "            print(\"Discovered device {}\".format(dev.addr))\n",
    "        elif new_dat:\n",
    "            print(\"Received new data from {}\".format(dev.addr))\n",
    "            \n",
    "scanner = Scanner().withDelegate(ScanDelegate())\n",
    "rssi_scanner = rssi.RSSI_Scan('wlan0')"
   ]
  },
  {
   "cell_type": "code",
   "execution_count": null,
   "id": "10c8cc3c-1820-45b8-8608-6f7a8ae8e0a2",
   "metadata": {},
   "outputs": [],
   "source": [
    "beacons = { \n",
    "    \"beacon 1\": u'',\n",
    "    \"beacon 2\": '20:EE:28:5B:F0:D8',\n",
    "    \"beacon 3\": 'CC:D2:81:12:9F:5B',\n",
    "    \"beacon 4\": 'DC:52:85:40:D6:4C',\n",
    "}\n",
    "\n",
    "beacons_addrs = [addr for addr in beacons.values()]"
   ]
  },
  {
   "cell_type": "markdown",
   "id": "f6f14647-1920-43d1-ae58-750a8fda59ca",
   "metadata": {
    "tags": []
   },
   "source": [
    "## Collecting Unique Adresses"
   ]
  },
  {
   "cell_type": "code",
   "execution_count": 9,
   "id": "57127575-d9dc-4ff9-b715-6b2eeeecbe12",
   "metadata": {},
   "outputs": [
    {
     "name": "stdout",
     "output_type": "stream",
     "text": [
      "Scanning...\n",
      "191\n"
     ]
    }
   ],
   "source": [
    "\n",
    "scan_time = .2\n",
    "\n",
    "unique_devices = set()\n",
    "print(\"Scanning...\")\n",
    "while 1:\n",
    "    try:\n",
    "        devices = scanner.scan(scan_time)\n",
    "        # print(\"Amount of Devices = \"+str(len(devices)))\n",
    "        for ii in devices:\n",
    "            unique_devices.add(ii.addr)\n",
    "           \n",
    "        # print(\"=\" * 20)\n",
    "    except KeyboardInterrupt:\n",
    "        print(len(unique_devices))\n",
    "        break"
   ]
  },
  {
   "cell_type": "code",
   "execution_count": null,
   "id": "e1136bbe-ed2c-4615-8785-474009c2cd07",
   "metadata": {},
   "outputs": [],
   "source": [
    "devices = list(unique_devices)\n",
    "for device in unique_devices:\n",
    "    print(device)"
   ]
  },
  {
   "cell_type": "markdown",
   "id": "9325ea76-b2fc-4dc1-8b22-864c34147792",
   "metadata": {},
   "source": [
    "## Loading in Address Data"
   ]
  },
  {
   "cell_type": "code",
   "execution_count": null,
   "id": "b9bb3ab5-dd4a-4671-ab69-9a117d46b401",
   "metadata": {
    "tags": []
   },
   "outputs": [],
   "source": [
    "def get_addresses(file=\"ble_addresses.txt\"):\n",
    "    devices = []\n",
    "    with open(file, 'r') as f:\n",
    "        for line in f:\n",
    "            devices.append(line[:-1])\n",
    "            \n",
    "    return devices\n",
    "\n",
    "devices = get_addresses()"
   ]
  },
  {
   "cell_type": "markdown",
   "id": "f96784ee-0715-4f57-b722-7b7f5684c4e2",
   "metadata": {},
   "source": [
    "## Data Collection"
   ]
  },
  {
   "cell_type": "code",
   "execution_count": 18,
   "id": "431a5ec8-692d-43f7-9106-0ad0c0906ae5",
   "metadata": {},
   "outputs": [],
   "source": [
    "class DataPoint:\n",
    "    \n",
    "    def __init__(self, room):\n",
    "        self.room = room\n",
    "        self.point = OrderedDict()\n",
    "        for device in devices:\n",
    "            self.point[device] = None\n",
    "            \n",
    "    def log(self, addr, rssi):\n",
    "        if addr in self.point:\n",
    "            self.point[addr] = rssi\n",
    "\n",
    "def scan(room, scan_time = .2):\n",
    "    print(\"Scanning {}...\".format(room))\n",
    "    data_points = []\n",
    "    while 1:\n",
    "        try:\n",
    "            data_point = DataPoint(room)                \n",
    "                \n",
    "            # Ble\n",
    "            devices = scanner.scan(scan_time)\n",
    "            for ii in devices:\n",
    "                address = ii.addr\n",
    "                strength = ii.rssi\n",
    "                \n",
    "                data_point.log(address, strength)\n",
    "\n",
    "            data_points.append(data_point)\n",
    "        except KeyboardInterrupt:\n",
    "            print(\"Ending\")\n",
    "            return data_points"
   ]
  },
  {
   "cell_type": "code",
   "execution_count": 7,
   "id": "c9a3a42a-c828-4e7f-b6fa-769401d8f1e1",
   "metadata": {},
   "outputs": [],
   "source": [
    "rooms = {\n",
    "    1: \"Brayden's Room\",\n",
    "    2: \"Back Hallway\",\n",
    "    3: \"Front Hallway\",\n",
    "    4: \"Bedroom\",\n",
    "    5: \"Bathroom 1\",\n",
    "    6: \"Bathroom 2\",\n",
    "    7: \"Kitchen\",\n",
    "    8: \"Dining Room\",\n",
    "    9: \"Living Room\",\n",
    "    10: \"Extra Room\"\n",
    "}\n",
    "\n",
    "room_data = {\n",
    "    \"Brayden's Room\": [],\n",
    "    \"Back Hallway\": [],\n",
    "    \"Front Hallway\": [],\n",
    "    \"Bedroom\": [],\n",
    "    \"Bathroom 1\": [],\n",
    "    \"Bathroom 2\": [],\n",
    "    \"Kitchen\": [],\n",
    "    \"Dining Room\": [],\n",
    "    \"Living Room\": [],\n",
    "    \"Extra Room\": []\n",
    "}"
   ]
  },
  {
   "cell_type": "code",
   "execution_count": 48,
   "id": "0d655de1-538a-4935-9d8f-d86870603b0c",
   "metadata": {},
   "outputs": [
    {
     "name": "stdout",
     "output_type": "stream",
     "text": [
      "Scanning Living Room...\n",
      "Ending\n"
     ]
    }
   ],
   "source": [
    "room = rooms[9]\n",
    "room_data[room] += scan(room)"
   ]
  },
  {
   "cell_type": "code",
   "execution_count": 49,
   "id": "2df9f5c4-9f01-4d2d-a1c6-f8eed56f6585",
   "metadata": {},
   "outputs": [
    {
     "name": "stdout",
     "output_type": "stream",
     "text": [
      "2487\n",
      "0\n",
      "0\n",
      "1596\n",
      "2595\n",
      "0\n",
      "2093\n",
      "1844\n",
      "2693\n",
      "707\n"
     ]
    }
   ],
   "source": [
    "for key, value in room_data.items():\n",
    "    print(len(value))"
   ]
  },
  {
   "cell_type": "markdown",
   "id": "8afccad8-a6cd-46f9-9c60-6a4dd9ea702f",
   "metadata": {},
   "source": [
    "## Save data for input in to model"
   ]
  },
  {
   "cell_type": "code",
   "execution_count": 50,
   "id": "9e8fc16f-f5c7-4cb4-bd36-8a3d21037653",
   "metadata": {},
   "outputs": [],
   "source": [
    "import os\n",
    "import csv\n",
    "\n",
    "# File management\n",
    "def write_to_csv(data, keys, file_name=\"ble_data.csv\"):\n",
    "    \"\"\"\n",
    "    data: list of dictionaries {artist, song, data}\n",
    "    \"\"\"\n",
    "    \n",
    "    csv_path = os.path.join(os.path.curdir, file_name)\n",
    "    with open(csv_path, 'a') as csv_file: \n",
    "        # creating a csv dict writer object \n",
    "        print(\"Entries: {num}\".format(num=len(data)))\n",
    "        writer = csv.DictWriter(csv_file, fieldnames = keys) \n",
    "        \n",
    "        # writing headers (field names) \n",
    "        writer.writeheader()\n",
    "        \n",
    "        for data_point in data:\n",
    "            entry = data_point.point\n",
    "            entry[\"room\"] = data_point.room\n",
    "\n",
    "            # writing data rows \n",
    "            writer.writerow(entry) \n",
    "        \n",
    "data_points = []\n",
    "for key, value in room_data.items():\n",
    "    data_points = data_points + value"
   ]
  },
  {
   "cell_type": "code",
   "execution_count": 51,
   "id": "2e844a11-aa1d-4b6b-8a51-5f22633d8e91",
   "metadata": {},
   "outputs": [
    {
     "name": "stdout",
     "output_type": "stream",
     "text": [
      "Entries: 14015\n"
     ]
    }
   ],
   "source": [
    "keys = [\"room\"] + devices\n",
    "write_to_csv(data_points, keys)"
   ]
  },
  {
   "cell_type": "code",
   "execution_count": null,
   "id": "4827eada-6bf0-4599-9bdc-3380b7f9b4a0",
   "metadata": {},
   "outputs": [],
   "source": []
  }
 ],
 "metadata": {
  "kernelspec": {
   "display_name": "Python 3 (ipykernel)",
   "language": "python",
   "name": "python3"
  },
  "language_info": {
   "codemirror_mode": {
    "name": "ipython",
    "version": 3
   },
   "file_extension": ".py",
   "mimetype": "text/x-python",
   "name": "python",
   "nbconvert_exporter": "python",
   "pygments_lexer": "ipython3",
   "version": "3.9.2"
  }
 },
 "nbformat": 4,
 "nbformat_minor": 5
}
